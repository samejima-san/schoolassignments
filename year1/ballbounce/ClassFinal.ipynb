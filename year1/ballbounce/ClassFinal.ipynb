{
 "cells": [
  {
   "cell_type": "code",
   "execution_count": 1,
   "metadata": {},
   "outputs": [],
   "source": [
    "import graphics\n",
    "from graphics import *\n",
    "import button \n",
    "from button import *\n",
    "\n",
    "ballx = 200\n",
    "bally = 200\n",
    "#radius of the ball \n",
    "radius = 10\n",
    "\n",
    "win = GraphWin(\"Bouncy Ball\", 400, 300)\n",
    "\n",
    "win.setBackground(\"blue\")\n",
    "ball = Circle(Point(ballx,bally), radius)\n",
    "ball.setFill(\"red\")\n",
    "ball.setOutline(\"Yellow\")\n",
    "ball.draw(win)  \n",
    "#direction variables \n",
    "dx = -1\n",
    "dy = 1\n",
    "\n",
    "ybot = radius \n",
    "ytop = win.getHeight() -radius\n",
    "xbot = radius \n",
    "xtop = win.getWidth() -radius\n",
    "\n",
    "quitButton = Button(win, Point(370,285),50,15,\"Quit\")\n",
    "quitButton.activate()\n",
    "i=True\n",
    "pt = Point(0,0)\n",
    "while i == True:\n",
    "    ballY = ball.getCenter().getY()\n",
    "    ballX = ball.getCenter().getX()\n",
    "   \n",
    "    time.sleep(0.01)\n",
    "    ball.move(dx,dy)\n",
    "\n",
    "    vvv = win.checkMouse()\n",
    "    if vvv != None:\n",
    "        pt = vvv\n",
    "        if quitButton.clicked(pt):\n",
    "            i = False\n",
    "    \n",
    "    \n",
    "    #detect if it's hitting the edge (if so reverse the direction)\n",
    "    if ballY <= ybot or ballY >= ytop:\n",
    "        #change the velocity\n",
    "        dy = -dy\n",
    "        #move it with the change of velocity so it doesn't get stuck\n",
    "        ball.move(dx*3, dy*3)\n",
    "\n",
    "    elif ballX <= xbot or ballX >= xtop:\n",
    "        #change the velocity\n",
    "        dx = -dx\n",
    "        #again the movement with velocity change for the same reason as before\n",
    "        ball.move(dx*3, dy*3)\n",
    "win.close()"
   ]
  },
  {
   "cell_type": "code",
   "execution_count": null,
   "metadata": {},
   "outputs": [],
   "source": []
  },
  {
   "cell_type": "code",
   "execution_count": null,
   "metadata": {},
   "outputs": [],
   "source": []
  }
 ],
 "metadata": {
  "kernelspec": {
   "display_name": "Python 3",
   "language": "python",
   "name": "python3"
  },
  "language_info": {
   "codemirror_mode": {
    "name": "ipython",
    "version": 3
   },
   "file_extension": ".py",
   "mimetype": "text/x-python",
   "name": "python",
   "nbconvert_exporter": "python",
   "pygments_lexer": "ipython3",
   "version": "3.7.1"
  }
 },
 "nbformat": 4,
 "nbformat_minor": 2
}
